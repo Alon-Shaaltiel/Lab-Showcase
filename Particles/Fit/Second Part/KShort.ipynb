{
 "cells": [
  {
   "cell_type": "code",
   "execution_count": 1,
   "id": "156adac8",
   "metadata": {
    "ExecuteTime": {
     "end_time": "2021-12-09T15:13:31.284117Z",
     "start_time": "2021-12-09T15:13:27.300150Z"
    },
    "init_cell": true,
    "scrolled": true
   },
   "outputs": [],
   "source": [
    "import re\n",
    "import collections\n",
    "import numpy as np\n",
    "import matplotlib.pyplot as plt\n",
    "import pandas as pd\n",
    "import os.path\n",
    "path = '/mnt/c/Users/alon4/Dropbox/Labs/Lab C1/Particles'\n",
    "speeeeed = 10\n",
    "f = open(os.path.join(path,f'Data/Second_KShort_alpha_4_{speeeeed}.txt'),'r')\n",
    "data = f.readlines()\n",
    "f.close()\n",
    "plt.rcParams['figure.figsize'] = [30,10]"
   ]
  },
  {
   "cell_type": "code",
   "execution_count": 2,
   "id": "052f78a3",
   "metadata": {
    "ExecuteTime": {
     "end_time": "2021-12-09T15:13:31.297343Z",
     "start_time": "2021-12-09T15:13:31.290716Z"
    },
    "init_cell": true
   },
   "outputs": [],
   "source": [
    "def remove_presuffix(text, prefix, suffix):\n",
    "    if text.startswith(prefix):\n",
    "        text = text[len(prefix):]\n",
    "    if text.endswith(suffix):\n",
    "        text = text[:-len(suffix)]\n",
    "    return text"
   ]
  },
  {
   "cell_type": "code",
   "execution_count": 3,
   "id": "e34eadda",
   "metadata": {
    "ExecuteTime": {
     "end_time": "2021-12-09T15:13:31.426234Z",
     "start_time": "2021-12-09T15:13:31.303022Z"
    },
    "init_cell": true,
    "scrolled": true
   },
   "outputs": [
    {
     "name": "stdout",
     "output_type": "stream",
     "text": [
      "The percentage of BUGS is 4.189044038668099\n"
     ]
    }
   ],
   "source": [
    "newE =  ' A new event at\\n'\n",
    "tracks = ['          Track No.   1\\n','          Track No.   2\\n','          Track No.   3\\n',\n",
    "          '    NO.  PULSE HEIGHT      X              Y              Z        YWIDTH  ZWIDTH\\n']\n",
    "TEve = np.array([i for i, x in enumerate(data) if x == newE])\n",
    "event = np.array([TEve,np.zeros_like(TEve),np.zeros_like(TEve),np.zeros_like(TEve),np.zeros_like(TEve)]).T\n",
    "for i in range(len(event[:,0])-1):\n",
    "    j = event[i,0]\n",
    "    while j < event[i+1,0]:\n",
    "        j+=1\n",
    "        if data[j] == tracks[0]:\n",
    "            k = j + 5\n",
    "            while data[k] != ' ******************************************************\\n':\n",
    "                event[i,1] += 1\n",
    "                k+=1\n",
    "        if data[j] == tracks[1]:\n",
    "            k = j + 5\n",
    "            while data[k] != ' ******************************************************\\n':\n",
    "                event[i,2] += 1\n",
    "                k+=1\n",
    "        if data[j] == tracks[2]:\n",
    "            k = j + 5\n",
    "            while data[k] != ' ******************************************************\\n':\n",
    "                event[i,3] += 1\n",
    "                k+=1\n",
    "        if data[j] == tracks[3]:\n",
    "            k = j+1\n",
    "            while (not bool(re.search('[a-zA-Z]', data[k]))) and data[k] != '\\n':\n",
    "                k+=1\n",
    "                event[i,4] += 1\n",
    "            # Count p.h. \n",
    "print(f'The percentage of BUGS is {len(event[np.sum(event[:,1:],axis=1) == 0])/len(event) * 100}')\n",
    "event = event[np.sum(event[:,1:],axis=1) > 0]"
   ]
  },
  {
   "cell_type": "code",
   "execution_count": 4,
   "id": "242de28a",
   "metadata": {
    "ExecuteTime": {
     "end_time": "2021-12-09T15:13:31.439503Z",
     "start_time": "2021-12-09T15:13:31.428928Z"
    },
    "init_cell": true,
    "run_control": {
     "marked": false
    }
   },
   "outputs": [
    {
     "name": "stdout",
     "output_type": "stream",
     "text": [
      "The branching ratio of kShort => pi-0 pi-0 is 44.39461883408072\n"
     ]
    },
    {
     "data": {
      "text/plain": [
       "931"
      ]
     },
     "execution_count": 4,
     "metadata": {},
     "output_type": "execute_result"
    }
   ],
   "source": [
    "# event = event[event[:,3] == 0]\n",
    "print(f'The branching ratio of kShort => pi-0 pi-0 is {len(event[(event[:,1] == 0) & (event[:,4] < 5) & (event[:,4] > 0)])/len(event) * 100}')\n",
    "# event = event[(event[:,2] == 1) & (event[:,4] < 5)]\n",
    "# print(len(TEve))\n",
    "# important3Track = event[(event[:,3] > event[:,1]) | (event[:,3] > event[:,2])]\n",
    "# event = event[(event[:,3] <= event[:,1]) & (event[:,3] <= event[:,2])]\n",
    "len(TEve)"
   ]
  },
  {
   "cell_type": "code",
   "execution_count": 5,
   "id": "8219c728",
   "metadata": {
    "ExecuteTime": {
     "end_time": "2021-12-09T15:13:31.552603Z",
     "start_time": "2021-12-09T15:13:31.442485Z"
    },
    "init_cell": true,
    "scrolled": true
   },
   "outputs": [
    {
     "name": "stdout",
     "output_type": "stream",
     "text": [
      "424\n",
      "The percentage of acceptable results (292 events) is 31.36%, meaning 68.64% were discarded\n"
     ]
    }
   ],
   "source": [
    "meases = np.array([])\n",
    "kapp = 'AKAPPA  *  Curvature'\n",
    "pre = ' *  '\n",
    "suff = '       AKAPPA  *  Curvature                          *\\n'\n",
    "hits = [1,2] # [1,3] [2,3]\n",
    "domain = 1\n",
    "XX = '      X  =  '\n",
    "YY = '      Y  =  '\n",
    "ZZ = '      Z  =  '\n",
    "PHI = '      Phi=   '\n",
    "\n",
    "for i in range(len(event)-1):\n",
    "    j = event[i,0] + 1\n",
    "    row = []\n",
    "    if event[i,3] == min(event[i,1:4]):\n",
    "        hits = [1,2]\n",
    "    elif event[i,2] == min(event[i,1:4]):\n",
    "        hits = [1,3]\n",
    "    else:\n",
    "        hits = [2,3]\n",
    "    vertec = f'              Tracks    {hits[0]} and    {hits[1]}\\n' \n",
    "    \n",
    "    while data[j] != newE:\n",
    "        j+=1\n",
    "        if data[j] in tracks[:3]:\n",
    "            domain = tracks[:3].index(data[j]) + 1\n",
    "        if kapp in data[j] and domain in hits:\n",
    "            row.append(float(remove_presuffix(data[j],pre,suff)))\n",
    "        if ' * AKAPPA ' in data[j] and domain in hits:\n",
    "            row.append(float(remove_presuffix(data[j],' * AKAPPA ','\\n')))\n",
    "        \n",
    "        if vertec == data[j]:\n",
    "            k = j+1\n",
    "            while data[k] != '\\n':\n",
    "                k+=1\n",
    "                if XX in data[k] or YY in data[k] or ZZ in data[k]:\n",
    "                    if '*****' in data[k]:\n",
    "                        continue\n",
    "                    text = remove_presuffix(data[k],XX,'\\n')\n",
    "                    text = remove_presuffix(text,YY,'\\n')\n",
    "                    text = remove_presuffix(text,ZZ,'\\n')\n",
    "                    # print(text)\n",
    "                    row.extend([float(text.split()[0]),float(text.split()[2])])\n",
    "\n",
    "                if PHI in data[k]:\n",
    "                    if '*****' in data[k]:\n",
    "                        continue\n",
    "                    text = remove_presuffix(data[k],PHI,'Rad\\n')\n",
    "                    row.extend([float(text.split()[0]),float(text.split()[2])])\n",
    "                    \n",
    "    if len(row) == 12:\n",
    "        if meases.size == 0:\n",
    "            meases = np.array([np.array(row)])\n",
    "        else:\n",
    "            meases = np.vstack([meases, row])\n",
    "\n",
    "print(len(meases))\n",
    "meases[:,4] += 10.0\n",
    "meases = meases[meases[:,0]*meases[:,2] < 0]\n",
    "print(f\"The percentage of acceptable results ({len(meases)} events) is {len(meases)/len(TEve) * 100:.2f}%,\"\n",
    "      f\" meaning {100-len(meases)/len(TEve) * 100:.2f}% were discarded\") "
   ]
  },
  {
   "cell_type": "code",
   "execution_count": 26,
   "id": "a1b01f7c",
   "metadata": {
    "ExecuteTime": {
     "end_time": "2021-11-23T20:37:01.418062Z",
     "start_time": "2021-11-23T20:37:01.413862Z"
    }
   },
   "outputs": [
    {
     "data": {
      "text/plain": [
       "69"
      ]
     },
     "execution_count": 26,
     "metadata": {},
     "output_type": "execute_result"
    }
   ],
   "source": [
    "len(bug)"
   ]
  },
  {
   "cell_type": "code",
   "execution_count": 29,
   "id": "47dbcf16",
   "metadata": {
    "ExecuteTime": {
     "end_time": "2021-11-23T14:53:45.980405Z",
     "start_time": "2021-11-23T14:53:45.976299Z"
    },
    "scrolled": true
   },
   "outputs": [],
   "source": [
    "# meases[:12] # K1 DK1 K2 DK2 X DX Y DY Z DZ PHI DPHI\n",
    "\n",
    "# P = q * alpha * B0 / (2*Kappa)\n",
    "# M^2 = m1^2 + m2^2 + 2E1E2 - 2P1P2 * cosPhi\n",
    "# E = sqrt(m^2 + P^2)\n",
    "# L = (X+10,Y,Z)^2\n",
    "# Tau = ML/P\n",
    "# tan(beta) = P1sin(phi)/(P1cos(phi) + P2)\n",
    "# P = P1cos(alpha) + P2cos(beta)"
   ]
  },
  {
   "cell_type": "code",
   "execution_count": 6,
   "id": "15d2927f",
   "metadata": {
    "ExecuteTime": {
     "end_time": "2021-12-09T15:13:31.569782Z",
     "start_time": "2021-12-09T15:13:31.554754Z"
    },
    "init_cell": true,
    "scrolled": false
   },
   "outputs": [],
   "source": [
    "piMass = (0.13957039, 0.00000018)\n",
    "alpha = 4\n",
    "a = (0.002,0.000031035)\n",
    "moments = np.array([alpha*a[0]/K for K in meases[:,[0,2]]])\n",
    "ene = np.array([np.sqrt(piMass[0]**2 + P**2) for P in moments])\n",
    "invarMassSqrd = np.sqrt(np.array([2*piMass[0]**2 + 2*ene[i,0]*ene[i,1] - \n",
    "                          np.abs(2*moments[i,0]*moments[i,1]*np.cos(meases[i,-2])) for i in range(len(ene))]))\n",
    "pd.Series(invarMassSqrd).to_pickle(os.path.join(path,f'Data/Second_kShortMass_4_{speeeeed}.pickle'))"
   ]
  },
  {
   "cell_type": "code",
   "execution_count": 7,
   "id": "5fcefbea",
   "metadata": {
    "ExecuteTime": {
     "end_time": "2021-12-09T15:13:31.589766Z",
     "start_time": "2021-12-09T15:13:31.571583Z"
    },
    "init_cell": true,
    "scrolled": false
   },
   "outputs": [],
   "source": [
    "beta = np.arctan([moments[i,0] * np.sin(meases[i,-2])/\n",
    "                  (moments[i,0] * np.cos(meases[i,-2]) + moments[i,1]) for i in range(len(moments))])\n",
    "\n",
    "momentum = np.abs(np.array([np.abs(moments[i,0]) * np.cos(meases[i,-2] - beta[i]) + np.abs(moments[i,1])* np.cos(beta[i]) for i in range(len(beta))])) \n",
    "L = 1/1.97327 * 10**(14) * np.array([np.sqrt(i[0]**2 + i[2]**2 + i[4]**2) for i in meases])\n",
    "\n",
    "Tau = np.array([invarMassSqrd[i]*L[i]/momentum[i] for i in range(len(momentum))])* 6.582119 * 10 ** (-25)\n",
    "\n",
    "pd.Series(Tau).to_pickle(os.path.join(path,f'Data/Second_kShortTau_4_{speeeeed}.pickle'))"
   ]
  },
  {
   "cell_type": "code",
   "execution_count": 17,
   "id": "48b36084",
   "metadata": {
    "ExecuteTime": {
     "end_time": "2021-11-22T12:24:31.532049Z",
     "start_time": "2021-11-22T12:24:31.447314Z"
    }
   },
   "outputs": [],
   "source": [
    "beta = np.arctan([moments[i,0] * np.sin(meases[i,-2])/\n",
    "                  (moments[i,0] * np.cos(meases[i,-2]) + moments[i,1]) for i in range(len(moments))])\n",
    "\n",
    "mass = 1.782*10**(-36+9)*invarMassSqrd\n",
    "momentum = 5.344*10**(-28+9)*np.abs(np.array([np.abs(moments[i,0]) * np.cos(meases[i,-2] - beta[i]) + np.abs(moments[i,1])* np.cos(beta[i]) for i in range(len(beta))])) \n",
    "L = 10**(-2) * np.array([np.sqrt(i[0]**2 + i[2]**2 + i[4]**2) for i in meases]) # conversion to meters\n",
    "\n",
    "Tau = np.array([mass[i]*L[i]/momentum[i] for i in range(len(momentum))])\n",
    "\n",
    "pd.Series(Tau).to_pickle(os.path.join(path,f'Data/Second_kShortTau_4_{speeeeed}_2.pickle'))"
   ]
  }
 ],
 "metadata": {
  "celltoolbar": "Initialization Cell",
  "kernelspec": {
   "display_name": "Python 3 (ipykernel)",
   "language": "python",
   "name": "python3"
  },
  "language_info": {
   "codemirror_mode": {
    "name": "ipython",
    "version": 3
   },
   "file_extension": ".py",
   "mimetype": "text/x-python",
   "name": "python",
   "nbconvert_exporter": "python",
   "pygments_lexer": "ipython3",
   "version": "3.8.10"
  },
  "varInspector": {
   "cols": {
    "lenName": 16,
    "lenType": 16,
    "lenVar": 40
   },
   "kernels_config": {
    "python": {
     "delete_cmd_postfix": "",
     "delete_cmd_prefix": "del ",
     "library": "var_list.py",
     "varRefreshCmd": "print(var_dic_list())"
    },
    "r": {
     "delete_cmd_postfix": ") ",
     "delete_cmd_prefix": "rm(",
     "library": "var_list.r",
     "varRefreshCmd": "cat(var_dic_list()) "
    }
   },
   "types_to_exclude": [
    "module",
    "function",
    "builtin_function_or_method",
    "instance",
    "_Feature"
   ],
   "window_display": false
  }
 },
 "nbformat": 4,
 "nbformat_minor": 5
}
