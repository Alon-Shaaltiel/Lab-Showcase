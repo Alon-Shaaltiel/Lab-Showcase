{
 "cells": [
  {
   "cell_type": "code",
   "execution_count": 1,
   "id": "38c37eb6",
   "metadata": {
    "ExecuteTime": {
     "end_time": "2021-12-05T20:21:50.814589Z",
     "start_time": "2021-12-05T20:21:46.912964Z"
    },
    "init_cell": true
   },
   "outputs": [],
   "source": [
    "import pandas as pd\n",
    "import numpy as np\n",
    "import matplotlib.pyplot as plt\n",
    "import os.path\n",
    "path = '/mnt/c/Users/alon4/Dropbox/Labs/Lab C1/Particles'\n",
    "speed = 10"
   ]
  },
  {
   "cell_type": "code",
   "execution_count": 2,
   "id": "cd098dfa",
   "metadata": {
    "ExecuteTime": {
     "end_time": "2021-12-05T20:21:51.074296Z",
     "start_time": "2021-12-05T20:21:50.816804Z"
    },
    "init_cell": true,
    "scrolled": true
   },
   "outputs": [
    {
     "data": {
      "image/png": "[encoded data removed]",
      "text/plain": [
       "<Figure size 432x288 with 1 Axes>"
      ]
     },
     "metadata": {
      "needs_background": "light"
     },
     "output_type": "display_data"
    }
   ],
   "source": [
    "mass = pd.read_pickle(os.path.join(path,f'Data/Second_kShortMass_4_{speed}.pickle')).to_numpy()\n",
    "(eventsMass, binsMass, patches) = plt.hist(mass, bins = 11)\n",
    "# plt.xlim([0,5])\n",
    "plt.show()"
   ]
  },
  {
   "cell_type": "code",
   "execution_count": 3,
   "id": "0e1cf581",
   "metadata": {
    "ExecuteTime": {
     "end_time": "2021-12-05T20:21:51.330826Z",
     "start_time": "2021-12-05T20:21:51.075928Z"
    },
    "init_cell": true
   },
   "outputs": [
    {
     "data": {
      "image/png": "[encoded data removed]",
      "text/plain": [
       "<Figure size 432x288 with 1 Axes>"
      ]
     },
     "metadata": {
      "needs_background": "light"
     },
     "output_type": "display_data"
    }
   ],
   "source": [
    "Tau = pd.read_pickle(os.path.join(path,f'Data/Second_kShortTau_4_{speed}.pickle')).to_numpy()\n",
    "# Tau = Tau[Tau<7e-11]\n",
    "(eventsTau, binsTau, patches) = plt.hist(Tau, bins = 45)\n",
    "# plt.xlim([0,4e-7])\n",
    "plt.show()"
   ]
  },
  {
   "cell_type": "code",
   "execution_count": 4,
   "id": "7b8e4d55",
   "metadata": {
    "ExecuteTime": {
     "end_time": "2021-12-05T20:21:52.814446Z",
     "start_time": "2021-12-05T20:21:51.332613Z"
    },
    "init_cell": true
   },
   "outputs": [
    {
     "data": {
      "text/plain": [
       "0.2552789292882952"
      ]
     },
     "execution_count": 4,
     "metadata": {},
     "output_type": "execute_result"
    }
   ],
   "source": [
    "eventsMass = np.array(eventsMass)\n",
    "mask = eventsMass>max(eventsMass)/2 # [False False False True ... True True False False ...]\n",
    "i = [0,0]\n",
    "while not mask[i[0]]:\n",
    "    i[0]+=1\n",
    "while not mask[::-1][i[1]]:\n",
    "    i[1]+=1\n",
    "i[1] = len(mask) - i[1]\n",
    "\n",
    "DX = [(binsMass[i+1]-binsMass[i])/2 for i in range(len(binsMass)-1)]\n",
    "X = [(binsMass[i+1]+binsMass[i])/2 for i in range(len(binsMass)-1)]\n",
    "DY = [np.sqrt(eve) for eve in eventsMass]\n",
    "Data = np.array([X,DX,eventsMass,DY]).T\n",
    "df = pd.DataFrame(Data[Data[:,2] > 0], columns=['Mass [GeV]', 'ΔMass [Gev]', 'eventsMass', 'ΔeventsMass']).set_index('Mass [GeV]')\n",
    "df.to_excel(excel_writer = os.path.join(path, f\"Fit/Second Part/Excel/KShort_alpha_4_{speed}_\" + str(len(binsMass) - 1)+'.xlsx'))\n",
    "gamma = X[i[1]]-X[i[0]]\n",
    "gamma"
   ]
  },
  {
   "cell_type": "code",
   "execution_count": 5,
   "id": "c2db804c",
   "metadata": {
    "ExecuteTime": {
     "end_time": "2021-12-05T20:21:52.845334Z",
     "start_time": "2021-12-05T20:21:52.817211Z"
    },
    "init_cell": true
   },
   "outputs": [
    {
     "name": "stdout",
     "output_type": "stream",
     "text": [
      "The estimation for tau is 1.3934010772288642e-10\n"
     ]
    }
   ],
   "source": [
    "eventsTau = np.array(eventsTau)\n",
    "mask = eventsTau>max(eventsTau)/2 # [False False False True ... True True False False ...]\n",
    "i = [0,0]\n",
    "while not mask[i[0]]:\n",
    "    i[0]+=1\n",
    "while not mask[::-1][i[1]]:\n",
    "    i[1]+=1\n",
    "i[1] = len(mask) - i[1]\n",
    "DX = [(binsTau[i+1]-binsTau[i])/np.sqrt(12) for i in range(len(binsTau)-1)]\n",
    "X = [(binsTau[i+1]+binsTau[i])/2 for i in range(len(binsTau)-1)]\n",
    "DY = [np.sqrt(eve) for eve in eventsTau]\n",
    "Data = np.array([X,DX,eventsTau,DY]).T\n",
    "df = pd.DataFrame(Data[Data[:,2] > 0], columns=['Tau [Sec]', 'ΔTau [Sec]', 'events', 'Δevents']).set_index('Tau [Sec]')\n",
    "df.to_excel(excel_writer = os.path.join(path, f\"Fit/Second Part/Excel/KShort_Tau_alpha_4_{speed}_\" + str(len(binsTau) - 1)+'.xlsx'))\n",
    "print(f'The estimation for tau is {X[i[1]]/np.log(2)}')"
   ]
  },
  {
   "cell_type": "code",
   "execution_count": 68,
   "id": "7de0a2ba",
   "metadata": {
    "ExecuteTime": {
     "end_time": "2021-11-23T17:49:04.866474Z",
     "start_time": "2021-11-23T17:49:04.856034Z"
    }
   },
   "outputs": [
    {
     "name": "stdout",
     "output_type": "stream",
     "text": [
      "NSigma between the masses is 3.651, and the relative error is 11.220%\n",
      "NSigma between the lifetimes is 8.325, and the relative error is 66.196%\n"
     ]
    }
   ],
   "source": [
    "MEx = (0.44178, 0.01529)\n",
    "MTh = (497.611 * 10**(-3), 0.013 * 10**(-3))\n",
    "TEx = (3.0276*10**(-11),7.122*10**(-12))\n",
    "TTh = (8.9564*10**(-11),3.3*10**(-14))\n",
    "print(f\"NSigma between the masses is {(MTh[0]-MEx[0])/np.sqrt(MTh[1]**2+MEx[1]**2):.3f}, and the relative error is {(MTh[0]-MEx[0])/MTh[0]*100:.3f}%\")\n",
    "print(f\"NSigma between the lifetimes is {(TTh[0]-TEx[0])/np.sqrt(TTh[1]**2+TEx[1]**2):.3f}, and the relative error is {np.abs(TTh[0]-TEx[0])/TTh[0]*100:.3f}%\")"
   ]
  },
  {
   "cell_type": "code",
   "execution_count": null,
   "id": "2bbbba1a",
   "metadata": {},
   "outputs": [],
   "source": []
  }
 ],
 "metadata": {
  "celltoolbar": "Initialization Cell",
  "kernelspec": {
   "display_name": "Python 3 (ipykernel)",
   "language": "python",
   "name": "python3"
  },
  "language_info": {
   "codemirror_mode": {
    "name": "ipython",
    "version": 3
   },
   "file_extension": ".py",
   "mimetype": "text/x-python",
   "name": "python",
   "nbconvert_exporter": "python",
   "pygments_lexer": "ipython3",
   "version": "3.8.10"
  },
  "varInspector": {
   "cols": {
    "lenName": 16,
    "lenType": 16,
    "lenVar": 40
   },
   "kernels_config": {
    "python": {
     "delete_cmd_postfix": "",
     "delete_cmd_prefix": "del ",
     "library": "var_list.py",
     "varRefreshCmd": "print(var_dic_list())"
    },
    "r": {
     "delete_cmd_postfix": ") ",
     "delete_cmd_prefix": "rm(",
     "library": "var_list.r",
     "varRefreshCmd": "cat(var_dic_list()) "
    }
   },
   "types_to_exclude": [
    "module",
    "function",
    "builtin_function_or_method",
    "instance",
    "_Feature"
   ],
   "window_display": false
  }
 },
 "nbformat": 4,
 "nbformat_minor": 5
}
