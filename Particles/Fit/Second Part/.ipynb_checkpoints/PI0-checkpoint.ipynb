{
 "cells": [
  {
   "cell_type": "code",
   "execution_count": 1,
   "id": "90770cb9",
   "metadata": {
    "ExecuteTime": {
     "end_time": "2021-12-03T06:41:21.334347Z",
     "start_time": "2021-12-03T06:41:11.413584Z"
    },
    "init_cell": true
   },
   "outputs": [],
   "source": [
    "import re\n",
    "import collections\n",
    "import numpy as np\n",
    "import matplotlib.pyplot as plt\n",
    "import pandas as pd\n",
    "import os.path\n",
    "path = '/mnt/c/Users/alon4/Dropbox/Labs/Lab C1/Particles' \n",
    "# The path to the main folder of the experiment. Instead of C:/ at the beginning, write /mnt/c.\n",
    "f = open(os.path.join(path,'Data/Second_Pi0.txt'),'r')\n",
    "data = f.readlines()\n",
    "f.close()"
   ]
  },
  {
   "cell_type": "code",
   "execution_count": 2,
   "id": "9b37ab38",
   "metadata": {
    "ExecuteTime": {
     "end_time": "2021-12-03T06:41:21.346722Z",
     "start_time": "2021-12-03T06:41:21.339615Z"
    },
    "init_cell": true,
    "scrolled": true
   },
   "outputs": [],
   "source": [
    "a1 = (2.06*10**(-2),2.67*10**(-5))\n",
    "a0 = (4.51*10**(-1), 3.19*10**(-2))"
   ]
  },
  {
   "cell_type": "code",
   "execution_count": 3,
   "id": "383cd5a0",
   "metadata": {
    "ExecuteTime": {
     "end_time": "2021-12-03T06:41:21.366950Z",
     "start_time": "2021-12-03T06:41:21.352962Z"
    },
    "init_cell": true
   },
   "outputs": [],
   "source": [
    "def remove_prefix(text, prefix):\n",
    "    if text.startswith(prefix):\n",
    "        return text[len(prefix):]\n",
    "    return text"
   ]
  },
  {
   "cell_type": "code",
   "execution_count": 6,
   "id": "2258e307",
   "metadata": {
    "ExecuteTime": {
     "end_time": "2021-12-03T06:41:41.380728Z",
     "start_time": "2021-12-03T06:41:41.147776Z"
    },
    "init_cell": true,
    "run_control": {
     "marked": false
    },
    "scrolled": true
   },
   "outputs": [
    {
     "name": "stdout",
     "output_type": "stream",
     "text": [
      "The number of acceptable results is: 86.86231018597509\n",
      "5091\n"
     ]
    }
   ],
   "source": [
    "end =  '    NO.  PULSE HEIGHT      X              Y              Z        YWIDTH  ZWIDTH\\n'\n",
    "Pulses = [i for i, x in enumerate(data) if x == end]\n",
    "numbers = []\n",
    "\n",
    "for i in Pulses:\n",
    "    j = i + 1\n",
    "    numbers.append([])\n",
    "    while (not bool(re.search('[a-zA-Z]', data[j]))) and data[j] != '\\n':\n",
    "        split =[float(remove_prefix(k,'+/-')) for k in data[j].split()[1:]]\n",
    "        split[1] += 10\n",
    "        numbers[-1].append(split)\n",
    "        j += 1\n",
    "\n",
    "print(f'The number of acceptable results is: {len(list(filter(lambda x: len(x) == 2, numbers)))/len(numbers) * 100}')\n",
    "numbers = list(filter(lambda x: len(x) == 2, numbers))\n",
    "# Lack of symmetry in simulation?\n",
    "# len(numbers) # PH X DX Y DY Z DZ YWIDTH ZWIDTH\n",
    "# sqrt(m1^2 +m2^2 + 2E1E2(1-costheta))\n",
    "print(len(numbers))"
   ]
  },
  {
   "cell_type": "code",
   "execution_count": 5,
   "id": "2d120b6e",
   "metadata": {
    "ExecuteTime": {
     "end_time": "2021-12-03T06:41:23.540650Z",
     "start_time": "2021-12-03T06:41:21.707514Z"
    },
    "init_cell": true,
    "run_control": {
     "marked": false
    },
    "scrolled": false
   },
   "outputs": [
    {
     "data": {
      "image/png": "[encoded data removed]",
      "text/plain": [
       "<Figure size 432x288 with 1 Axes>"
      ]
     },
     "metadata": {
      "needs_background": "light"
     },
     "output_type": "display_data"
    }
   ],
   "source": [
    "massSquared = []\n",
    "for meas in numbers:\n",
    "    xyz0 = np.array([meas[0][1],meas[0][3],meas[0][5]])\n",
    "    xyz1 = np.array([meas[1][1],meas[1][3],meas[1][5]])\n",
    "    cstheta = xyz0.dot(xyz1) / (np.linalg.norm(xyz0,2)*np.linalg.norm(xyz1,2))\n",
    "    massSquared.append(2*(meas[0][0]*a1[0] + a0[0])*(meas[1][0]*a1[0] + a0[0])*(1-cstheta))\n",
    "\n",
    "mass = np.sqrt(massSquared)\n",
    "(events, bins, patches) = plt.hist(mass, bins=300)\n",
    "plt.show()"
   ]
  },
  {
   "cell_type": "code",
   "execution_count": 44,
   "id": "e01c3f52",
   "metadata": {
    "ExecuteTime": {
     "end_time": "2021-11-19T17:31:48.096087Z",
     "start_time": "2021-11-19T17:31:48.086338Z"
    }
   },
   "outputs": [],
   "source": [
    "events = np.array(events)\n",
    "mask = events>max(events)/2\n",
    "i = [0,0]\n",
    "while not mask[i[0]]:\n",
    "    i[0]+=1\n",
    "while not mask[::-1][i[1]]:\n",
    "    i[1]+=1\n",
    "i[1] = len(mask) - i[1]"
   ]
  },
  {
   "cell_type": "code",
   "execution_count": 162,
   "id": "39884ac2",
   "metadata": {
    "ExecuteTime": {
     "end_time": "2021-11-17T19:34:52.310795Z",
     "start_time": "2021-11-17T19:34:52.253741Z"
    }
   },
   "outputs": [
    {
     "data": {
      "text/plain": [
       "0.018346285797059325"
      ]
     },
     "execution_count": 162,
     "metadata": {},
     "output_type": "execute_result"
    }
   ],
   "source": [
    "DX = [(bins[i+1]-bins[i])/2 for i in range(len(bins)-1)]\n",
    "X = [(bins[i+1]+bins[i])/2 for i in range(len(bins)-1)]\n",
    "gamma = X[i[1]]-X[i[0]]\n",
    "DY = [np.sqrt(eve) for eve in events]\n",
    "Data = np.array([X,DX,events,DY]).T\n",
    "df = pd.DataFrame(Data[Data[:,2] > 0], columns=['Mass [GeV]', 'ΔMass [Gev]', 'Events', 'ΔEvents']).set_index('Mass [GeV]')\n",
    "df.to_excel(excel_writer = os.path.join(path, \"Fit/Second Part/Excel/Pi0_2tenth3.xlsx\"))\n",
    "print(gamma)"
   ]
  }
 ],
 "metadata": {
  "celltoolbar": "Initialization Cell",
  "kernelspec": {
   "display_name": "Python 3 (ipykernel)",
   "language": "python",
   "name": "python3"
  },
  "language_info": {
   "codemirror_mode": {
    "name": "ipython",
    "version": 3
   },
   "file_extension": ".py",
   "mimetype": "text/x-python",
   "name": "python",
   "nbconvert_exporter": "python",
   "pygments_lexer": "ipython3",
   "version": "3.8.10"
  },
  "varInspector": {
   "cols": {
    "lenName": 16,
    "lenType": 16,
    "lenVar": 40
   },
   "kernels_config": {
    "python": {
     "delete_cmd_postfix": "",
     "delete_cmd_prefix": "del ",
     "library": "var_list.py",
     "varRefreshCmd": "print(var_dic_list())"
    },
    "r": {
     "delete_cmd_postfix": ") ",
     "delete_cmd_prefix": "rm(",
     "library": "var_list.r",
     "varRefreshCmd": "cat(var_dic_list()) "
    }
   },
   "types_to_exclude": [
    "module",
    "function",
    "builtin_function_or_method",
    "instance",
    "_Feature"
   ],
   "window_display": false
  }
 },
 "nbformat": 4,
 "nbformat_minor": 5
}
