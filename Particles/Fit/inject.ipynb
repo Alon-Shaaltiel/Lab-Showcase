{
 "cells": [
  {
   "cell_type": "code",
   "execution_count": 6,
   "id": "034b7b47",
   "metadata": {
    "ExecuteTime": {
     "end_time": "2021-11-27T17:09:27.532510Z",
     "start_time": "2021-11-27T17:09:27.487502Z"
    }
   },
   "outputs": [],
   "source": [
    "import pyperclip\n",
    "momentum = 10\n",
    "particle = 'electron'\n",
    "password = ''\n",
    "username = 'shaaltiel'\n",
    "start = 'cd \"$LAB/Particles/Data\"\\n' # file location\n",
    "# start += f'sshpass -p {password} ssh -tt {username}@hpcssd.tau.ac.il | tee -a Second_KShort_alpha_4_{momentum}.txt\\n'\n",
    "start += f'sshpass -p {password} ssh -tt {username}@hpcssd.tau.ac.il | tee -a test.txt\\n'\n",
    "start += 'singularity shell --bind /var/misc/phys /docker_scratch/g\\n'\n",
    "start += 'cd /var/misc/phys; ./gimel\\n'\n",
    "first = True\n",
    "pyperclip.copy(start)"
   ]
  },
  {
   "cell_type": "code",
   "execution_count": 8,
   "id": "440f9f62",
   "metadata": {
    "ExecuteTime": {
     "end_time": "2021-11-27T17:09:34.956845Z",
     "start_time": "2021-11-27T17:09:34.921605Z"
    }
   },
   "outputs": [],
   "source": [
    "measurements = 2\n",
    "inject = ''\n",
    "\n",
    "if first:\n",
    "    inject += '1\\nn\\n'\n",
    "    first = False\n",
    "\n",
    "inject += f'{particle} {momentum}\\n'\n",
    "for j in range(measurements//120 + 1):\n",
    "    inject += 'inject; ' * min(measurements-j*120,120) + '\\n'\n",
    "# inject += 'exit\\nexit\\nexit\\n'\n",
    "pyperclip.copy(inject)"
   ]
  }
 ],
 "metadata": {
  "kernelspec": {
   "display_name": "Python 3 (ipykernel)",
   "language": "python",
   "name": "python3"
  },
  "language_info": {
   "codemirror_mode": {
    "name": "ipython",
    "version": 3
   },
   "file_extension": ".py",
   "mimetype": "text/x-python",
   "name": "python",
   "nbconvert_exporter": "python",
   "pygments_lexer": "ipython3",
   "version": "3.8.10"
  },
  "varInspector": {
   "cols": {
    "lenName": 16,
    "lenType": 16,
    "lenVar": 40
   },
   "kernels_config": {
    "python": {
     "delete_cmd_postfix": "",
     "delete_cmd_prefix": "del ",
     "library": "var_list.py",
     "varRefreshCmd": "print(var_dic_list())"
    },
    "r": {
     "delete_cmd_postfix": ") ",
     "delete_cmd_prefix": "rm(",
     "library": "var_list.r",
     "varRefreshCmd": "cat(var_dic_list()) "
    }
   },
   "types_to_exclude": [
    "module",
    "function",
    "builtin_function_or_method",
    "instance",
    "_Feature"
   ],
   "window_display": false
  }
 },
 "nbformat": 4,
 "nbformat_minor": 5
}
