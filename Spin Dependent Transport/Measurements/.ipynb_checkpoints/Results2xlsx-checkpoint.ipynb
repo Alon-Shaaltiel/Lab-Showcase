{
 "cells": [
  {
   "cell_type": "code",
   "execution_count": 5,
   "id": "40d2175b",
   "metadata": {
    "ExecuteTime": {
     "end_time": "2021-12-29T09:55:44.016714Z",
     "start_time": "2021-12-29T09:55:43.402297Z"
    },
    "run_control": {
     "marked": false
    },
    "scrolled": true
   },
   "outputs": [],
   "source": [
    "import matplotlib.pyplot as plt\n",
    "import pandas as pd\n",
    "import os\n",
    "import numpy as np\n",
    "path = '/mnt/c/Users/alon4/Dropbox/My PC (LAPTOP-L5MMEHHN)/Desktop/Studies/Lab C1/Spin Dependent Transport/Measurements'\n",
    "for filename in os.listdir(os.path.join(path,'Raw')):\n",
    "    if filename == 'PHE':\n",
    "        continue\n",
    "    f = open(os.path.join(path,f'Raw/{filename}'),'r')\n",
    "    data = f.readlines()\n",
    "    f.close()\n",
    "    data = np.array([i.strip().split('\\t') for i in data][:-1]).T\n",
    "    data = np.array([[float(data[i][j]) for j in range(len(data[0]))] for i in range(len(data))])\n",
    "    df = pd.DataFrame(data.T, columns = ['H [Gauss]','R [kOhm]'])\n",
    "    df.set_index(df.columns[0],inplace=True)\n",
    "    df.to_excel(os.path.join(path, filename + \".xlsx\"))"
   ]
  }
 ],
 "metadata": {
  "kernelspec": {
   "display_name": "Python 3 (ipykernel)",
   "language": "python",
   "name": "python3"
  },
  "language_info": {
   "codemirror_mode": {
    "name": "ipython",
    "version": 3
   },
   "file_extension": ".py",
   "mimetype": "text/x-python",
   "name": "python",
   "nbconvert_exporter": "python",
   "pygments_lexer": "ipython3",
   "version": "3.8.10"
  },
  "varInspector": {
   "cols": {
    "lenName": 16,
    "lenType": 16,
    "lenVar": 40
   },
   "kernels_config": {
    "python": {
     "delete_cmd_postfix": "",
     "delete_cmd_prefix": "del ",
     "library": "var_list.py",
     "varRefreshCmd": "print(var_dic_list())"
    },
    "r": {
     "delete_cmd_postfix": ") ",
     "delete_cmd_prefix": "rm(",
     "library": "var_list.r",
     "varRefreshCmd": "cat(var_dic_list()) "
    }
   },
   "types_to_exclude": [
    "module",
    "function",
    "builtin_function_or_method",
    "instance",
    "_Feature"
   ],
   "window_display": false
  }
 },
 "nbformat": 4,
 "nbformat_minor": 5
}
