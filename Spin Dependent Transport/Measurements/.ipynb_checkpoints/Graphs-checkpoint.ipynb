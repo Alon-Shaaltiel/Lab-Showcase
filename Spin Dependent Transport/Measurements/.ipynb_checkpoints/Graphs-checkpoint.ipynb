{
 "cells": [
  {
   "cell_type": "code",
   "execution_count": 19,
   "id": "0f613419",
   "metadata": {
    "ExecuteTime": {
     "end_time": "2021-12-28T16:57:47.861308Z",
     "start_time": "2021-12-28T16:57:47.285833Z"
    }
   },
   "outputs": [],
   "source": [
    "import pandas as pd\n",
    "import os\n",
    "import numpy as np\n",
    "import matplotlib.pyplot as plt"
   ]
  },
  {
   "cell_type": "code",
   "execution_count": 56,
   "id": "19124f8d",
   "metadata": {
    "ExecuteTime": {
     "end_time": "2021-12-28T17:13:53.249356Z",
     "start_time": "2021-12-28T17:13:52.453875Z"
    },
    "scrolled": false
   },
   "outputs": [
    {
     "data": {
      "image/png": "[encoded data removed]",
      "text/plain": [
       "<Figure size 432x288 with 1 Axes>"
      ]
     },
     "metadata": {
      "needs_background": "light"
     },
     "output_type": "display_data"
    }
   ],
   "source": [
    "AHE_151 = pd.read_excel('AHE - 15.xlsx')\n",
    "AHE_151.index.name = 'Time'\n",
    "N = AHE_151.index[-1]\n",
    "SUM = sum(np.sqrt([i**2 for i in AHE_151.iloc[:,1]]))\n",
    "AHE_151 = AHE_151[(SUM-AHE_151.iloc[:,1]**2)/N > 0.99*SUM/(N+1)]\n",
    "AHE_151 = AHE_151.to_numpy()\n",
    "plt.scatter(AHE_151[:,0],AHE_151[:,1])\n",
    "plt.show()"
   ]
  }
 ],
 "metadata": {
  "kernelspec": {
   "display_name": "Python 3 (ipykernel)",
   "language": "python",
   "name": "python3"
  },
  "language_info": {
   "codemirror_mode": {
    "name": "ipython",
    "version": 3
   },
   "file_extension": ".py",
   "mimetype": "text/x-python",
   "name": "python",
   "nbconvert_exporter": "python",
   "pygments_lexer": "ipython3",
   "version": "3.8.10"
  },
  "varInspector": {
   "cols": {
    "lenName": 16,
    "lenType": 16,
    "lenVar": 40
   },
   "kernels_config": {
    "python": {
     "delete_cmd_postfix": "",
     "delete_cmd_prefix": "del ",
     "library": "var_list.py",
     "varRefreshCmd": "print(var_dic_list())"
    },
    "r": {
     "delete_cmd_postfix": ") ",
     "delete_cmd_prefix": "rm(",
     "library": "var_list.r",
     "varRefreshCmd": "cat(var_dic_list()) "
    }
   },
   "types_to_exclude": [
    "module",
    "function",
    "builtin_function_or_method",
    "instance",
    "_Feature"
   ],
   "window_display": false
  }
 },
 "nbformat": 4,
 "nbformat_minor": 5
}
